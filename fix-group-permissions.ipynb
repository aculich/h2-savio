{
 "cells": [
  {
   "cell_type": "markdown",
   "id": "44da71cf-0e78-4e8c-b8ab-6227ddb2a81f",
   "metadata": {},
   "source": [
    "# Group Permissions\n",
    "\n",
    "This notebook is designed to fix the file and directory permissions\n",
    "for all files belonging to:\n",
    "\n",
    "`/global/home/groups/fc_winerev`\n",
    "\n",
    "`/global/scratch/users/haveman/fc_winerev`"
   ]
  },
  {
   "cell_type": "code",
   "execution_count": null,
   "id": "17faae0a-875c-4ff5-9dac-baa60cdf4a50",
   "metadata": {},
   "outputs": [],
   "source": [
    "!./fix-savio-group-perms"
   ]
  }
 ],
 "metadata": {
  "kernelspec": {
   "display_name": "Python 3 (ipykernel)",
   "language": "python",
   "name": "python3"
  },
  "language_info": {
   "codemirror_mode": {
    "name": "ipython",
    "version": 3
   },
   "file_extension": ".py",
   "mimetype": "text/x-python",
   "name": "python",
   "nbconvert_exporter": "python",
   "pygments_lexer": "ipython3",
   "version": "3.12.7"
  }
 },
 "nbformat": 4,
 "nbformat_minor": 5
}
